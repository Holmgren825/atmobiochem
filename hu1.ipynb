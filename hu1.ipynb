{
 "cells": [
  {
   "cell_type": "markdown",
   "metadata": {},
   "source": [
    "# Reactive nitrogen\n",
    "## Calculate the critical [NO]\n",
    "Essentially when P(O$_3$) = L(O$_3$). We want to solve\n",
    "\n",
    "\\begin{equation}\n",
    "[NO] = \\frac{[O_3] \\cdot ( k^1_l[OH] + k^2_l [HO_2] + f J_{O1D})}{k^1[HO_2] + k^2 [CH_3O_2]}.\n",
    "\\end{equation}"
   ]
  },
  {
   "cell_type": "code",
   "execution_count": 1,
   "metadata": {},
   "outputs": [],
   "source": [
    "import math"
   ]
  },
  {
   "cell_type": "code",
   "execution_count": 2,
   "metadata": {},
   "outputs": [],
   "source": [
    "# Conditions\n",
    "p_sfc = 101325 # pressure\n",
    "p_10 = 28000\n",
    "R = 8.31 # \n",
    "NA = 6.022 * 1e23  # Avogrado\n",
    "t_sfc = 298\n",
    "\n",
    "# Concentrations\n",
    "ho2 = 40 * 1e-12\n",
    "ch3o2 = 25 * 1e-12\n",
    "o3 = 40 * 1e-9\n",
    "oh_c = 1e6 # Note: number density\n",
    "f = 0.15\n",
    "j_o1d = 2.5 * 1e-5\n",
    "\n",
    "# Reaction rates\n",
    "k1 = k2 = 8.5 * 1e-12\n",
    "k1_l = 7.3 * 1e-14\n",
    "k2_l = 2 * 1e-15"
   ]
  },
  {
   "cell_type": "markdown",
   "metadata": {},
   "source": [
    "We need to convert the volume mixing ratios to number densities:"
   ]
  },
  {
   "cell_type": "code",
   "execution_count": 3,
   "metadata": {},
   "outputs": [],
   "source": [
    "# Just a simple function to convert from volume mixing ratio\n",
    "# to number density.\n",
    "def vol_to_dens(vol, temp, pressure):\n",
    "    return((vol * NA * pressure) / (R * temp * 1e6))\n",
    "\n",
    "\n",
    "ho2_c = vol_to_dens(ho2, t_sfc, p_sfc)\n",
    "ch3o2_c = vol_to_dens(ch3o2, t_sfc, p_sfc)\n",
    "o3_c = vol_to_dens(o3, t_sfc, p_sfc)"
   ]
  },
  {
   "cell_type": "markdown",
   "metadata": {},
   "source": [
    "We can now solve the equation for [NO]."
   ]
  },
  {
   "cell_type": "code",
   "execution_count": 4,
   "metadata": {},
   "outputs": [
    {
     "name": "stdout",
     "output_type": "stream",
     "text": [
      "The critical NO concentration is: 4.19e+08 molec cm^-3\n"
     ]
    }
   ],
   "source": [
    "no_crit = (o3_c * (k1_l * oh_c + k2_l * ho2_c + f * j_o1d)) /\\\n",
    "            (k1 * ho2_c + k2 * ch3o2_c)\n",
    "print(f'The critical NO concentration is: {no_crit:.2e} molec cm^-3')"
   ]
  },
  {
   "cell_type": "markdown",
   "metadata": {},
   "source": [
    "Let's have a look at the individual parts of the equation to see which part has the largest impact on the steady state."
   ]
  },
  {
   "cell_type": "code",
   "execution_count": 5,
   "metadata": {},
   "outputs": [
    {
     "name": "stdout",
     "output_type": "stream",
     "text": [
      "k1_l * [OH]: 7.30e-08\n",
      "k2_l * [HO_2]: 1.97e-06\n",
      "f * JO1D$:  3.75e-06\n",
      "k1 * ho2_c: 8.38e-03\n",
      "k2 * ch202_c: 5.24e-03\n"
     ]
    }
   ],
   "source": [
    "print(f'k1_l * [OH]: {k1_l * oh_c:.2e}')\n",
    "print(f'k2_l * [HO_2]: {k2_l * ho2_c:.2e}')\n",
    "print(f'f * JO1D$: {f * j_o1d: .2e}')\n",
    "print(f'k1 * ho2_c: {k1 * ho2_c:.2e}')\n",
    "print(f'k2 * ch202_c: {k2 * ch3o2_c:.2e}')"
   ]
  },
  {
   "cell_type": "markdown",
   "metadata": {},
   "source": [
    "As seen in the output above, $k^1 [HO_2]$ is the most important part of the critical [NO] since it is the fastest reaction and thus has the largest impact on the concentration."
   ]
  },
  {
   "cell_type": "markdown",
   "metadata": {},
   "source": [
    "## Calculation of lifetime of NO$_x$."
   ]
  },
  {
   "cell_type": "markdown",
   "metadata": {},
   "source": [
    "Calculating the lifetime of NO$_x$ is based on the following equation\n",
    "\n",
    "\\begin{equation}\n",
    "\\tau_{NO_x} = \\tau_{NO_2} (1 + [NO] / [NO_2]).\n",
    "\\end{equation}\n",
    "\n",
    "This is done at the surface and at 10km. We need to define the following conditions:"
   ]
  },
  {
   "cell_type": "code",
   "execution_count": 6,
   "metadata": {},
   "outputs": [],
   "source": [
    "oh_c = 1e6\n",
    "j_no2 = 1e-2\n",
    "t_10 = 220\n",
    "o3_sfc = 40 * 1e-9\n",
    "o3_10 = 100 * 1e-9\n",
    "# N2 volume mixing ratio in air. Altitude independent?\n",
    "n2 = 78.08 * 1e-2\n",
    "# Convert volume mixing ration to number dens.\n",
    "o3_sfc_c = vol_to_dens(o3_sfc, t_sfc, p_sfc)\n",
    "o3_10_c = vol_to_dens(o3_10, t_10, p_10)\n",
    "n2_sfc_c = vol_to_dens(n2, t_sfc, p_sfc)\n",
    "n2_10_c = vol_to_dens(n2, t_10, p_10)\n",
    "\n",
    "# Reaction rates\n",
    "k_sfc = 1.4 * 1e-12 * math.exp(-1310 / t_sfc) \n",
    "k_10 = 1.4 * 1e-12 * math.exp(-1310 / t_10)\n",
    "kn_sfc = 3.3 * 1e-30 * (t_sfc / 300)**-3.0 * n2_sfc_c\n",
    "kn_10 = 3.3 * 1e-30 * (t_10 / 300)**-3.0 * n2_10_c"
   ]
  },
  {
   "cell_type": "markdown",
   "metadata": {},
   "source": [
    "The ratio of $[NO_2]/[NO]$ is calculated as\n",
    "\n",
    "\\begin{equation}\n",
    "[NO] / [NO_2]  = \\frac{J_{NO_2}}{k[O_3]}\n",
    "\\end{equation}"
   ]
  },
  {
   "cell_type": "code",
   "execution_count": 7,
   "metadata": {},
   "outputs": [
    {
     "name": "stdout",
     "output_type": "stream",
     "text": [
      "[NO]/[NO2] ratio at surface: 0.59\n"
     ]
    }
   ],
   "source": [
    "# Surface ratio\n",
    "rat_sfc =  (j_no2) / (k_sfc * o3_sfc_c)\n",
    "print(f'[NO]/[NO2] ratio at surface: {rat_sfc:.2f}')"
   ]
  },
  {
   "cell_type": "code",
   "execution_count": 8,
   "metadata": {},
   "outputs": [
    {
     "name": "stdout",
     "output_type": "stream",
     "text": [
      "[NO]/[NO2] ratio at 10 km: 2.99\n"
     ]
    }
   ],
   "source": [
    "# Ratio at 10 km\n",
    "rat_10 = (j_no2) / (k_10 * o3_10_c)\n",
    "print(f'[NO]/[NO2] ratio at 10 km: {rat_10:.2f}')"
   ]
  },
  {
   "cell_type": "markdown",
   "metadata": {},
   "source": [
    "Furthermore, the lifetime of NO$_2$ can be calculated as\n",
    "\n",
    "\\begin{equation}\n",
    "\\tau_{NO_2} = \\frac{1}{k_n [OH]}\n",
    "\\end{equation}"
   ]
  },
  {
   "cell_type": "code",
   "execution_count": 9,
   "metadata": {},
   "outputs": [],
   "source": [
    "tau_no2_sfc = 1 / (kn_sfc * oh_c)\n",
    "tau_no2_10 = 1 / (kn_10 * oh_c)"
   ]
  },
  {
   "cell_type": "markdown",
   "metadata": {},
   "source": [
    "which is then used to calculate the lifetime of NO$_x$"
   ]
  },
  {
   "cell_type": "code",
   "execution_count": 10,
   "metadata": {},
   "outputs": [
    {
     "name": "stdout",
     "output_type": "stream",
     "text": [
      "Lifetime of NO_x at surface: 6.81 hours.\n",
      "Lifetime of NO_x at 10 km: 18.37 hours.\n"
     ]
    }
   ],
   "source": [
    "tau_nox_sfc = tau_no2_sfc * (1 + rat_sfc)\n",
    "tau_nox_10 = tau_no2_10 * (1 + rat_10)\n",
    "print(f'Lifetime of NO_x at surface: {tau_nox_sfc/3600:.2f} hours.')\n",
    "print(f'Lifetime of NO_x at 10 km: {tau_nox_10/3600:.2f} hours.')"
   ]
  }
 ],
 "metadata": {
  "authors": [
   {
    "name": "Erik Holmgren"
   }
  ],
  "kernelspec": {
   "display_name": "Python 3",
   "language": "python",
   "name": "python3"
  },
  "language_info": {
   "codemirror_mode": {
    "name": "ipython",
    "version": 3
   },
   "file_extension": ".py",
   "mimetype": "text/x-python",
   "name": "python",
   "nbconvert_exporter": "python",
   "pygments_lexer": "ipython3",
   "version": "3.8.3"
  },
  "title": "Homework HU1"
 },
 "nbformat": 4,
 "nbformat_minor": 4
}
